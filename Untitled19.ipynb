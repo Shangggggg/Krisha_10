{
  "nbformat": 4,
  "nbformat_minor": 0,
  "metadata": {
    "colab": {
      "provenance": [],
      "authorship_tag": "ABX9TyNra9O5DiN7ZdGXvyyeGDUx",
      "include_colab_link": true
    },
    "kernelspec": {
      "name": "python3",
      "display_name": "Python 3"
    },
    "language_info": {
      "name": "python"
    }
  },
  "cells": [
    {
      "cell_type": "markdown",
      "metadata": {
        "id": "view-in-github",
        "colab_type": "text"
      },
      "source": [
        "<a href=\"https://colab.research.google.com/github/Shangggggg/Krisha_10/blob/main/Untitled19.ipynb\" target=\"_parent\"><img src=\"https://colab.research.google.com/assets/colab-badge.svg\" alt=\"Open In Colab\"/></a>"
      ]
    },
    {
      "cell_type": "code",
      "execution_count": 1,
      "metadata": {
        "id": "OMcXoWLx7EJb"
      },
      "outputs": [],
      "source": [
        "import pandas as pd"
      ]
    },
    {
      "cell_type": "code",
      "source": [
        "import numpy as np"
      ],
      "metadata": {
        "id": "aL3h_n-87PMI"
      },
      "execution_count": 2,
      "outputs": []
    },
    {
      "cell_type": "code",
      "source": [
        "df=pd.read_csv(\"https://raw.githubusercontent.com/Shangggggg/Krisha_10/main/shanghai_ranking_2024.csv\")"
      ],
      "metadata": {
        "id": "aNOuNS4e7WHU"
      },
      "execution_count": 3,
      "outputs": []
    },
    {
      "cell_type": "code",
      "source": [
        "print(df.head())"
      ],
      "metadata": {
        "colab": {
          "base_uri": "https://localhost:8080/"
        },
        "id": "eQSIw5Z37fK_",
        "outputId": "0b5ef598-fdd9-4fb7-e708-7e2a156930db"
      },
      "execution_count": 4,
      "outputs": [
        {
          "output_type": "stream",
          "name": "stdout",
          "text": [
            "  Rank                              University_Name National/Regional Rank  \\\n",
            "0    1                           Harvard University                      1   \n",
            "1    2                          Stanford University                      2   \n",
            "2    3  Massachusetts Institute of Technology (MIT)                      3   \n",
            "3    4                      University of Cambridge                      1   \n",
            "4    5           University of California, Berkeley                      4   \n",
            "\n",
            "   Alumni  Award   Hici    N&S    PUB   PCP  \n",
            "0   100.0   97.1  100.0  100.0  100.0  85.7  \n",
            "1    45.3   88.1   73.1   83.9   73.1  59.6  \n",
            "2    71.9   82.8   55.2   70.8   59.1  73.6  \n",
            "3    78.2   90.8   45.1   59.8   67.2  60.6  \n",
            "4    65.3   76.5   46.9   62.8   57.1  55.5  \n"
          ]
        }
      ]
    },
    {
      "cell_type": "code",
      "source": [
        "print(df.shape)"
      ],
      "metadata": {
        "colab": {
          "base_uri": "https://localhost:8080/"
        },
        "id": "qLNupESe7m-4",
        "outputId": "ff525e9b-1a0b-483d-d249-de9c1baf5c84"
      },
      "execution_count": 5,
      "outputs": [
        {
          "output_type": "stream",
          "name": "stdout",
          "text": [
            "(1000, 9)\n"
          ]
        }
      ]
    },
    {
      "cell_type": "code",
      "source": [
        "print(df.dtypes)"
      ],
      "metadata": {
        "colab": {
          "base_uri": "https://localhost:8080/"
        },
        "id": "sfNeGtRX7to4",
        "outputId": "30e311cb-a008-4308-8528-53b5552dde86"
      },
      "execution_count": 6,
      "outputs": [
        {
          "output_type": "stream",
          "name": "stdout",
          "text": [
            "Rank                       object\n",
            "University_Name            object\n",
            "National/Regional Rank     object\n",
            "Alumni                    float64\n",
            "Award                     float64\n",
            "Hici                      float64\n",
            "N&S                       float64\n",
            "PUB                       float64\n",
            "PCP                       float64\n",
            "dtype: object\n"
          ]
        }
      ]
    },
    {
      "cell_type": "code",
      "source": [
        "print(df.isnull().sum())"
      ],
      "metadata": {
        "colab": {
          "base_uri": "https://localhost:8080/"
        },
        "id": "4yHiCBPh75x3",
        "outputId": "246f9383-99b5-45d3-b370-0f4af89731e8"
      },
      "execution_count": 7,
      "outputs": [
        {
          "output_type": "stream",
          "name": "stdout",
          "text": [
            "Rank                       0\n",
            "University_Name            0\n",
            "National/Regional Rank     0\n",
            "Alumni                     0\n",
            "Award                      0\n",
            "Hici                       0\n",
            "N&S                       11\n",
            "PUB                        0\n",
            "PCP                        0\n",
            "dtype: int64\n"
          ]
        }
      ]
    },
    {
      "cell_type": "code",
      "source": [
        "df=df.drop_duplicates()"
      ],
      "metadata": {
        "id": "-IWuahH47_ie"
      },
      "execution_count": 8,
      "outputs": []
    },
    {
      "cell_type": "code",
      "source": [
        "print(df.shape)"
      ],
      "metadata": {
        "colab": {
          "base_uri": "https://localhost:8080/"
        },
        "id": "ADi34POW8LQp",
        "outputId": "99ff6607-d764-4b75-aee8-175ccba8b075"
      },
      "execution_count": 9,
      "outputs": [
        {
          "output_type": "stream",
          "name": "stdout",
          "text": [
            "(1000, 9)\n"
          ]
        }
      ]
    },
    {
      "cell_type": "code",
      "source": [
        "df['Alumni']= df['Alumni'].astype(int)"
      ],
      "metadata": {
        "id": "bvythazE8Toe"
      },
      "execution_count": 11,
      "outputs": []
    },
    {
      "cell_type": "code",
      "source": [
        "df['Award']= df['Award'].astype(int)"
      ],
      "metadata": {
        "id": "rv-y4SZH8tOi"
      },
      "execution_count": 12,
      "outputs": []
    },
    {
      "cell_type": "code",
      "source": [
        "df['PUB']= df['PUB'].astype(int)"
      ],
      "metadata": {
        "id": "FWF-vnrq9K5g"
      },
      "execution_count": 15,
      "outputs": []
    },
    {
      "cell_type": "code",
      "source": [
        "df['Hici']= df['Hici'].astype(int)"
      ],
      "metadata": {
        "id": "Zr6uXSCB87fE"
      },
      "execution_count": 13,
      "outputs": []
    },
    {
      "cell_type": "code",
      "source": [
        "print(df.dtypes)"
      ],
      "metadata": {
        "colab": {
          "base_uri": "https://localhost:8080/"
        },
        "id": "lyJYD6ms9dtt",
        "outputId": "d794b358-049b-4506-fbd8-190b9b9e63b3"
      },
      "execution_count": 16,
      "outputs": [
        {
          "output_type": "stream",
          "name": "stdout",
          "text": [
            "Rank                       object\n",
            "University_Name            object\n",
            "National/Regional Rank     object\n",
            "Alumni                      int64\n",
            "Award                       int64\n",
            "Hici                        int64\n",
            "N&S                       float64\n",
            "PUB                         int64\n",
            "PCP                       float64\n",
            "dtype: object\n"
          ]
        }
      ]
    },
    {
      "cell_type": "code",
      "source": [
        "from sklearn.preprocessing import MinMaxScaler, StandardScaler"
      ],
      "metadata": {
        "id": "aeqwA0LQ-hSO"
      },
      "execution_count": 17,
      "outputs": []
    },
    {
      "cell_type": "code",
      "source": [
        "scaler=MinMaxScaler()"
      ],
      "metadata": {
        "id": "2nO7ojPs-yax"
      },
      "execution_count": 29,
      "outputs": []
    },
    {
      "cell_type": "code",
      "source": [
        "df[['Alumni', 'Award', 'PUB']] = scaler.fit_transform(df[['Alumni', 'Award', 'PUB']])"
      ],
      "metadata": {
        "id": "QPdnsayLBAKX"
      },
      "execution_count": 30,
      "outputs": []
    },
    {
      "cell_type": "code",
      "source": [
        "print(df[['Alumni','Award','PUB']].head())"
      ],
      "metadata": {
        "colab": {
          "base_uri": "https://localhost:8080/"
        },
        "id": "sgHgTUHHAQeq",
        "outputId": "db72309a-2c7e-49fb-abc0-2fce4604ebef"
      },
      "execution_count": 26,
      "outputs": [
        {
          "output_type": "stream",
          "name": "stdout",
          "text": [
            "   Alumni  Award  PUB\n",
            "0     100     97  100\n",
            "1      45     88   73\n",
            "2      71     82   59\n",
            "3      78     90   67\n",
            "4      65     76   57\n"
          ]
        }
      ]
    },
    {
      "cell_type": "code",
      "source": [
        "df=df[df['Alumni'] <= 10000]"
      ],
      "metadata": {
        "id": "pwAAtyBUAetC"
      },
      "execution_count": 27,
      "outputs": []
    },
    {
      "cell_type": "code",
      "source": [
        "print(df.shape)"
      ],
      "metadata": {
        "colab": {
          "base_uri": "https://localhost:8080/"
        },
        "id": "Qgpl5s0nAuVZ",
        "outputId": "6891ae2c-97a6-4bf8-e0b2-adda18808aad"
      },
      "execution_count": 28,
      "outputs": [
        {
          "output_type": "stream",
          "name": "stdout",
          "text": [
            "(1000, 9)\n"
          ]
        }
      ]
    }
  ]
}